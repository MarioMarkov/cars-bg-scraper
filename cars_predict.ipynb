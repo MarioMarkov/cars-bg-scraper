{
  "nbformat": 4,
  "nbformat_minor": 0,
  "metadata": {
    "colab": {
      "provenance": [],
      "collapsed_sections": [],
      "authorship_tag": "ABX9TyMvF+UyHAvyIOPobgu+eVQr",
      "include_colab_link": true
    },
    "kernelspec": {
      "name": "python3",
      "display_name": "Python 3"
    },
    "language_info": {
      "name": "python"
    }
  },
  "cells": [
    {
      "cell_type": "markdown",
      "metadata": {
        "id": "view-in-github",
        "colab_type": "text"
      },
      "source": [
        "<a href=\"https://colab.research.google.com/github/MarioMarkov/cars-predict/blob/master/cars_predict.ipynb\" target=\"_parent\"><img src=\"https://colab.research.google.com/assets/colab-badge.svg\" alt=\"Open In Colab\"/></a>"
      ]
    },
    {
      "cell_type": "code",
      "execution_count": 102,
      "metadata": {
        "colab": {
          "base_uri": "https://localhost:8080/"
        },
        "id": "wf7OXBrfoI-4",
        "outputId": "93a65923-fe6c-456c-91d2-80382f802bcc"
      },
      "outputs": [
        {
          "output_type": "stream",
          "name": "stdout",
          "text": [
            "2865.572296544125\n",
            "   brand        price\n",
            "0     27  2009.866821\n",
            "1      1  7811.062012\n"
          ]
        }
      ],
      "source": [
        "import pandas as pd\n",
        "import numpy as np\n",
        "from sklearn import preprocessing\n",
        "from sklearn.model_selection import train_test_split\n",
        "from sklearn.metrics import mean_absolute_error\n",
        "from sklearn.linear_model import LinearRegression\n",
        "from xgboost import XGBRegressor\n",
        "import xgboost as xgb\n",
        "from sklearn.model_selection import RandomizedSearchCV\n",
        "from sklearn.preprocessing import OrdinalEncoder\n",
        "from sklearn.model_selection import cross_val_score\n",
        "from sklearn.impute import SimpleImputer\n",
        "from sklearn.model_selection import GridSearchCV\n",
        "from sklearn.model_selection import RepeatedKFold\n",
        "\n",
        "#Load data\n",
        "data = pd.read_csv('/content/cars-data.csv')\n",
        "test = pd.read_csv('/content/test-cars.csv')\n",
        "\n",
        "#data.price = np.log10(data.price ) \n",
        "\n",
        "# Remove Id column\n",
        "data = data.drop(['id'],axis='columns')\n",
        "\n",
        "# Remove outliers in IQR 70-20\n",
        "Q3 = np.quantile(data.price, 0.70)\n",
        "Q1 = np.quantile(data.price, 0.20)\n",
        "IQR = Q3 - Q1\n",
        "lower_range = Q1 - 1.5 * IQR\n",
        "upper_range = Q3 + 1.5 * IQR\n",
        "outlier_free_list = [x for x in data.price if (\n",
        "    (x > lower_range) & (x < upper_range))]\n",
        "data = data.loc[data.price.isin(outlier_free_list)]\n",
        "\n",
        "\n",
        "\n",
        "#data.price = np.log10(data.price) \n",
        "\n",
        "# Train set without price col\n",
        "X = data.drop(['price'],axis='columns')\n",
        "\n",
        "# Train set price col\n",
        "y = data.price\n",
        "\n",
        "# Encoding string columns to numeric\n",
        "nominal_cols = X.select_dtypes(include='object')\n",
        "le = preprocessing.LabelEncoder()\n",
        "for col in nominal_cols:\n",
        "  X[col] = le.fit_transform(X[col])\n",
        "  test[col] = le.transform(test[col])\n",
        "\n",
        "# Space of possible hyperparameters\n",
        "space = dict()\n",
        "space['n_estimators'] = range(100,600,100)\n",
        "space['learning_rate'] = [0.01,0.02,0.03,0.04,0.05,0.1,0.2,0.3,0.4,0.5]\n",
        "\n",
        "# Defining model to try hyperparameters from space on\n",
        "model = XGBRegressor(objective='reg:squarederror')\n",
        "\n",
        "#X_train, X_valid, y_train,y_valid = train_test_split(X,y,random_state=1,test_size=0.2)\n",
        "\n",
        "# Fit model\n",
        "model.fit(X,y)\n",
        "\n",
        "#Calculate error \n",
        "mae = -1 * cross_val_score(model, X, y,\n",
        "                                  cv=3,\n",
        "                                  scoring='neg_mean_absolute_error')\n",
        "#preds = pd.DataFrame(model.predict(X_valid))\n",
        "#mae = mean_absolute_error(preds,y_valid)\n",
        "\n",
        "print(mae.mean())\n",
        "\n",
        "\n",
        "#preds.to_csv(\"preds.csv\",index = False)\n",
        "\n",
        "preds =  model.predict(test)\n",
        "#preds = 10 ** preds\n",
        "df = pd.DataFrame({\"brand\":test.brand,\n",
        "                     \"price\":preds})\n",
        "print(df)\n",
        "#y_valid = 10 ** y_valid\n",
        "#y_valid.to_csv(\"real.csv\",index = False)\n",
        "\n"
      ]
    },
    {
      "cell_type": "code",
      "source": [
        "import pandas as pd\n",
        "import numpy as np\n",
        "from sklearn import preprocessing\n",
        "from sklearn.model_selection import train_test_split\n",
        "from sklearn.metrics import mean_absolute_error\n",
        "from sklearn.linear_model import LinearRegression\n",
        "from xgboost import XGBRegressor\n",
        "import xgboost as xgb\n",
        "from sklearn.model_selection import RandomizedSearchCV\n",
        "from sklearn.preprocessing import OrdinalEncoder\n",
        "from sklearn.model_selection import cross_val_score\n",
        "from sklearn.impute import SimpleImputer\n",
        "from sklearn.model_selection import GridSearchCV\n",
        "from sklearn.model_selection import RepeatedKFold\n",
        "from sklearn.neighbors import LocalOutlierFactor\n",
        "\n",
        "\n",
        "\n",
        "data = pd.read_csv('/content/cars-data.csv')\n",
        "data = data[1:]\n",
        "\n",
        "\n",
        "print(data.price.describe())\n",
        "\n",
        "\n",
        "Q3 = np.quantile(data.price, 0.75)\n",
        "Q1 = np.quantile(data.price, 0.25)\n",
        "IQR = Q3 - Q1\n",
        "print(\"IQR value for column %s is: %s\" % ('price', IQR))\n",
        "global outlier_free_list\n",
        "global filtered_data\n",
        "lower_range = Q1 - 1.5 * IQR\n",
        "upper_range = Q3 + 1.5 * IQR\n",
        "outlier_free_list = [x for x in data.price if (\n",
        "    (x > lower_range) & (x < upper_range))]\n",
        "filtered_data = data.loc[data.price.isin(outlier_free_list)]\n",
        " \n",
        "print(filtered_data.price.describe())\n"
      ],
      "metadata": {
        "colab": {
          "base_uri": "https://localhost:8080/"
        },
        "id": "sVoS6E14Xe3M",
        "outputId": "f83ff4f2-4423-4385-92a4-9be178c2b393"
      },
      "execution_count": 86,
      "outputs": [
        {
          "output_type": "stream",
          "name": "stdout",
          "text": [
            "count       995.000000\n",
            "mean      13369.934673\n",
            "std       12928.062509\n",
            "min         650.000000\n",
            "25%        5600.000000\n",
            "50%        9499.000000\n",
            "75%       16500.000000\n",
            "max      144444.000000\n",
            "Name: price, dtype: float64\n",
            "IQR value for column price is: 10900.0\n",
            "count      928.000000\n",
            "mean     10841.085129\n",
            "std       7128.286736\n",
            "min        650.000000\n",
            "25%       5500.000000\n",
            "50%       8850.000000\n",
            "75%      14500.000000\n",
            "max      32500.000000\n",
            "Name: price, dtype: float64\n"
          ]
        }
      ]
    }
  ]
}